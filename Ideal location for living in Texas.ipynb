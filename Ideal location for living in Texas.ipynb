{
 "cells": [
  {
   "cell_type": "markdown",
   "metadata": {
    "collapsed": true
   },
   "source": [
    "<h1> What is the best area for setting up a motel in Texas?</h1>"
   ]
  },
  {
   "cell_type": "markdown",
   "metadata": {},
   "source": [
    "<h5>This notebook is created as an assignment for the Capstone Project in Coursera course</h5>"
   ]
  },
  {
   "cell_type": "markdown",
   "metadata": {},
   "source": [
    "<div class=\"alert alert-block alert-info\" style=\"margin-top: 20px\">\n",
    "<hr>\n",
    "<ul>\n",
    "<li> WEEK 1\n",
    "    <ol> <li>Problem definition</li>\n",
    "         <li>Problem Statement</li>\n",
    "         <li>Data Collection</li>\n",
    "    </ol>\n",
    "</li>\n",
    "    \n",
    "<li>WEEK 2</li>\n",
    "<ol> <li>   Problem formulation</li>\n",
    "     <li>   Results and Comparisons</li>\n",
    "    <li>    Conclusions</li>\n",
    "</ol>\n",
    "</ul>\n",
    "<hr>\n",
    "</div>"
   ]
  },
  {
   "cell_type": "markdown",
   "metadata": {},
   "source": [
    "<h3>Week 1</h3>"
   ]
  },
  {
   "cell_type": "markdown",
   "metadata": {},
   "source": [
    "\n",
    "<h4> Problem definition</h4>\n",
    "Opting for a suitable location to live in a good and a peaceful environment is the most important decision while travelling. A vicinity having all the basic needs of life nearby along with entertaining and recreational areas can be a suitable pick . In Texas, there are a number of motels to live in while travelling but still considering the increase in population and travelling, there is always a need of some good resting place. An ideal location can be one that falls under the budget along the basic necessaties available nearby. Therefore, in this project we will try to find the best location for setting up a motel."
   ]
  },
  {
   "cell_type": "markdown",
   "metadata": {},
   "source": [
    "<h4> Problem statement</h4>\n",
    "Looking for an ideal location to build a motel in Texas. Other factors also include the type of customers that may reside in the motel and the services a it may provide.\n"
   ]
  },
  {
   "cell_type": "markdown",
   "metadata": {},
   "source": [
    "<h4> Data Collection</h4>\n",
    "Texas is the second largest state in US with numerous travelling destinations. Texas contains diverse landscapes common to both the U.S. Southern and Southwestern regions.Most of the population centers are in areas of former prairies, grasslands, forests, and the coastline. Traveling from east to west, one can observe terrain that ranges from coastal swamps and piney woods, to rolling plains and rugged hills, and finally the desert and mountains of the Big Bend.\n",
    "\n",
    "According to tourism-review.com, around 70 million international tourists and 220 million domestic tourists visited Texas in 2012. Considering such a high number of visitors, demand of a motel is never out.\n",
    "\n",
    "The main data used for this project will be from these sources:\n",
    "<ol>\n",
    "    <li>Getting the list of neighborhoods using zipcodes from link <a>https://www.ciclt.net/sn/clt/capitolimpact/gw_ziplist.aspx?FIPS=48113</a>\n",
    "    <li>Data from FourSquare API about list of all existing motels in Texas</li>\n",
    "    <li>List of popular visitors' destinations in Texas</li>\n",
    "<li>Latitude and longitude coordinates of these neighborhoods for plotting map and get the data for a suitable venue</li>\n",
    "</ol>"
   ]
  },
  {
   "cell_type": "code",
   "execution_count": null,
   "metadata": {},
   "outputs": [],
   "source": []
  }
 ],
 "metadata": {
  "kernelspec": {
   "display_name": "Python 3.6",
   "language": "python",
   "name": "python3"
  },
  "language_info": {
   "codemirror_mode": {
    "name": "ipython",
    "version": 3
   },
   "file_extension": ".py",
   "mimetype": "text/x-python",
   "name": "python",
   "nbconvert_exporter": "python",
   "pygments_lexer": "ipython3",
   "version": "3.6.8"
  }
 },
 "nbformat": 4,
 "nbformat_minor": 1
}
